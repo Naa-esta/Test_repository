{
 "cells": [
  {
   "cell_type": "markdown",
   "id": "39dd9cbd-b707-48ad-8291-2a33321aa00a",
   "metadata": {},
   "source": [
    "# Q1"
   ]
  },
  {
   "cell_type": "markdown",
   "id": "a1004657-171a-4961-9090-2e145a4c3864",
   "metadata": {},
   "source": [
    "Define a class called \"Person\" with attributes \"name\",\"age\", and \"race\".\n",
    "Add a method in the \"Person\" class to print out the person's details.\n",
    "Create instance of the class and call the method to print the details"
   ]
  },
  {
   "cell_type": "markdown",
   "id": "3f65ce8b-d370-43ee-85dc-4f67fc20fc10",
   "metadata": {},
   "source": [
    "# Q2"
   ]
  },
  {
   "cell_type": "markdown",
   "id": "15fdbaab-38d8-434c-b515-af8e10d58509",
   "metadata": {},
   "source": [
    "Create a class called 'Circle' with attribute 'radius' and a default value for 'pi (3.142)'. Include a method that calculates the area and another method that calculates the circumference of the circle"
   ]
  },
  {
   "cell_type": "markdown",
   "id": "01e6dc63-4ed9-439c-a28d-7acafc6f996b",
   "metadata": {},
   "source": [
    "# Q3"
   ]
  },
  {
   "cell_type": "markdown",
   "id": "054b16a6-1df1-4eef-ba44-f19cb161548f",
   "metadata": {},
   "source": [
    "Define a class called \"BankAccountDetail\" with methods:\n",
    "\n",
    "'init': that has attribute \"account_num, balance\".\n",
    "\n",
    "'deposit': with arguement 'amount'\n",
    "\n",
    "'withdraw': with argument 'amount'\n",
    "\n",
    "'get_balance' that returns the current balance of the account"
   ]
  },
  {
   "cell_type": "markdown",
   "id": "167ce90d-367a-4cb2-bbdc-bf76be7c668c",
   "metadata": {},
   "source": [
    "# Q4"
   ]
  },
  {
   "cell_type": "markdown",
   "id": "38c60eab-b281-42da-98e3-c3aa120ab9fe",
   "metadata": {},
   "source": [
    "Define a class called 'ToDo', and Initialize the class with 'init' to create an empty list to store tasks.\n",
    "\n",
    "Add 'add_task' method that takes a description of a task as an input and adds it to the list of tasks, where each task is represented as a dictionary with keys: \"task\" (thus the description) and 'done'(that indicate if the task is completed or not'.\n",
    "\n",
    "Implement a method called 'task_done' that takes the task description as an input, and search for the task in the list, then update the status of 'done' if found, else indicate that the task is not found.\n",
    "\n",
    "Finally implement a method called 'task_display' that prints all the tasks and whether they have been completed or not.\n",
    "\n",
    "N/B: Apply an error handling that takes care of the case where a user enter an inappropriate input."
   ]
  },
  {
   "cell_type": "markdown",
   "id": "481dca5a-68c5-420d-8a10-713c8f15ce7c",
   "metadata": {},
   "source": [
    "# Q5"
   ]
  },
  {
   "cell_type": "markdown",
   "id": "36082dd5-c581-40ca-aa05-a058426dc6d8",
   "metadata": {},
   "source": [
    "Create a class called 'Vehicle' that has attributes: model(module of car), year(year it was manufactured), and make(the manufactuer)\n",
    "\n",
    "Create two menthods:\n",
    "init method: that takes all the attributes of the class and initializes them.\n",
    "'get_description': that returns the describes the vehicle.\n",
    "\n",
    "N/B: Test and be sure the program is working"
   ]
  },
  {
   "cell_type": "markdown",
   "id": "d98f59d0-e6ff-43df-9f7c-47698a2c5e91",
   "metadata": {},
   "source": [
    "# Q6"
   ]
  },
  {
   "cell_type": "markdown",
   "id": "cefb9f86-490c-455b-b78d-1e80387bd997",
   "metadata": {},
   "source": [
    "Create a class 'Car', that inherits the class 'Vehicle'. It also adds as an additional  attribute called 'capacity', which tells the number of seats/pasenger the car takes.\n",
    "Override the 'get_description' method to include the seating capacity"
   ]
  },
  {
   "cell_type": "markdown",
   "id": "a88270b4-f983-434d-a160-c8cf4fb5acca",
   "metadata": {},
   "source": [
    "# Q7"
   ]
  },
  {
   "cell_type": "markdown",
   "id": "18ce1a23-329a-42ee-aea6-f18add0213b8",
   "metadata": {},
   "source": [
    "Create a class 'Truck', that inherits the class 'Vehicle'. It also adds as an additional  attribute called 'capacity', which tells the maximum load the truck can take.\n",
    "Override the 'get_description' method to include the load capacity"
   ]
  },
  {
   "cell_type": "code",
   "execution_count": null,
   "id": "1bf79324-86b9-4629-a5d3-311664ab2d4b",
   "metadata": {},
   "outputs": [],
   "source": []
  }
 ],
 "metadata": {
  "kernelspec": {
   "display_name": "Python 3 (ipykernel)",
   "language": "python",
   "name": "python3"
  },
  "language_info": {
   "codemirror_mode": {
    "name": "ipython",
    "version": 3
   },
   "file_extension": ".py",
   "mimetype": "text/x-python",
   "name": "python",
   "nbconvert_exporter": "python",
   "pygments_lexer": "ipython3",
   "version": "3.9.18"
  }
 },
 "nbformat": 4,
 "nbformat_minor": 5
}
